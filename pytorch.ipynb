{
 "cells": [
  {
   "cell_type": "code",
   "execution_count": 2,
   "metadata": {},
   "outputs": [],
   "source": [
    "import torch\n",
    "import torch.nn as nn\n",
    "import torch.utils.data as data\n",
    "import torchvision\n",
    "import torchvision.transforms as transforms\n",
    "from tqdm import tqdm\n",
    "from torch.autograd import Variable\n",
    "import time\n",
    "\n",
    "BATCH_SIZE = 128\n",
    "NUM_EPOCHS = 10"
   ]
  },
  {
   "cell_type": "code",
   "execution_count": 3,
   "metadata": {
    "scrolled": true
   },
   "outputs": [],
   "source": [
    "# preprocessing\n",
    "normalize = transforms.Normalize(mean=[.5], std=[.5])\n",
    "transform = transforms.Compose([transforms.ToTensor(), normalize])\n",
    "\n",
    "# download and load the data\n",
    "train_dataset = torchvision.datasets.MNIST(root='./mnist/', train=True, transform=transform, download=True)\n",
    "test_dataset = torchvision.datasets.MNIST(root='./mnist/', train=False, transform=transform, download=False)\n",
    "\n",
    "# encapsulate them into dataloader form\n",
    "train_loader = data.DataLoader(train_dataset, batch_size=BATCH_SIZE, shuffle=True, drop_last=True)\n",
    "test_loader = data.DataLoader(test_dataset, batch_size=BATCH_SIZE, shuffle=False, drop_last=True)"
   ]
  },
  {
   "cell_type": "code",
   "execution_count": 6,
   "metadata": {},
   "outputs": [],
   "source": [
    "class SimpleNet(torch.nn.Module):\n",
    "# TODO:define model\n",
    "    def __init__(self):\n",
    "        super(SimpleNet, self).__init__()\n",
    "        #self.hidden = torch.nn.Linear(784,548)   # hidden layer\n",
    "        #self.out = torch.nn.Linear(548,10)   # output layer\n",
    "        self.fc1 = nn.Linear(784, 576)\n",
    "        self.bc1 = nn.BatchNorm1d(576)\n",
    "        \n",
    "        self.fc2 = nn.Linear(576, 324)\n",
    "        self.bc2 = nn.BatchNorm1d(324)\n",
    "        \n",
    "        self.fc3 = nn.Linear(324, 144)\n",
    "        self.bc3 = nn.BatchNorm1d(144)\n",
    "        \n",
    "        self.fc4 = nn.Linear(144, 10)\n",
    "\n",
    "    def forward(self, x):\n",
    "        #x = F.relu(self.hidden(x))      # activation function for hidden layer\n",
    "        #x = self.out(x)\n",
    "        #return x\n",
    "        x = x.view((-1, 784))\n",
    "        h = self.fc1(x)\n",
    "        h = self.bc1(h)\n",
    "        h = nn.functional.relu(h)\n",
    "        h = nn.functional.dropout(h, p=0.5, training=self.training)#防止出现过拟合\n",
    "        \n",
    "        h = self.fc2(h)\n",
    "        h = self.bc2(h)\n",
    "        h = nn.functional.relu(h)\n",
    "        h = nn.functional.dropout(h, p=0.2, training=self.training)#防止出现过拟合\n",
    "        \n",
    "        h = self.fc3(h)\n",
    "        h = self.bc3(h)\n",
    "        h = nn.functional.relu(h)\n",
    "        h = nn.functional.dropout(h, p=0.1, training=self.training)#防止出现过拟合\n",
    "        \n",
    "        h = self.fc4(h)\n",
    "        out = nn.functional.log_softmax(h, dim = 0)\n",
    "        return out\n",
    "    \n",
    "model = SimpleNet()\n",
    "\n",
    "# TODO:define loss function and optimiter\n",
    "criterion = torch.nn.CrossEntropyLoss()\n",
    "optimizer =torch.optim.Adam(model.parameters(), lr=0.0001)"
   ]
  },
  {
   "cell_type": "code",
   "execution_count": 7,
   "metadata": {},
   "outputs": [
    {
     "name": "stderr",
     "output_type": "stream",
     "text": [
      "100%|████████████████████████████████████████████████████████████████████████████████| 468/468 [00:29<00:00, 15.82it/s]\n",
      "100%|██████████████████████████████████████████████████████████████████████████████████| 78/78 [00:02<00:00, 38.11it/s]\n",
      "  0%|▎                                                                                 | 2/468 [00:00<00:25, 18.57it/s]"
     ]
    },
    {
     "name": "stdout",
     "output_type": "stream",
     "text": [
      "[Epoch: 1] Train Loss: 0.78364 Train Accuracy: 0.81824\n",
      "[Epoch: 1] Test Loss: 0.27280 Test Accuracy: 0.93610\n"
     ]
    },
    {
     "name": "stderr",
     "output_type": "stream",
     "text": [
      "100%|████████████████████████████████████████████████████████████████████████████████| 468/468 [00:24<00:00, 19.40it/s]\n",
      "100%|██████████████████████████████████████████████████████████████████████████████████| 78/78 [00:02<00:00, 38.81it/s]\n",
      "  0%|▎                                                                                 | 2/468 [00:00<00:26, 17.75it/s]"
     ]
    },
    {
     "name": "stdout",
     "output_type": "stream",
     "text": [
      "[Epoch: 2] Train Loss: 0.20960 Train Accuracy: 0.93657\n",
      "[Epoch: 2] Test Loss: 0.14963 Test Accuracy: 0.95453\n"
     ]
    },
    {
     "name": "stderr",
     "output_type": "stream",
     "text": [
      "100%|████████████████████████████████████████████████████████████████████████████████| 468/468 [00:24<00:00, 19.20it/s]\n",
      "100%|██████████████████████████████████████████████████████████████████████████████████| 78/78 [00:02<00:00, 35.20it/s]\n",
      "  0%|▎                                                                                 | 2/468 [00:00<00:26, 17.91it/s]"
     ]
    },
    {
     "name": "stdout",
     "output_type": "stream",
     "text": [
      "[Epoch: 3] Train Loss: 0.13480 Train Accuracy: 0.95852\n",
      "[Epoch: 3] Test Loss: 0.11053 Test Accuracy: 0.96645\n"
     ]
    },
    {
     "name": "stderr",
     "output_type": "stream",
     "text": [
      "100%|████████████████████████████████████████████████████████████████████████████████| 468/468 [00:25<00:00, 18.45it/s]\n",
      "100%|██████████████████████████████████████████████████████████████████████████████████| 78/78 [00:02<00:00, 37.05it/s]\n",
      "  0%|▎                                                                                 | 2/468 [00:00<00:25, 18.23it/s]"
     ]
    },
    {
     "name": "stdout",
     "output_type": "stream",
     "text": [
      "[Epoch: 4] Train Loss: 0.09848 Train Accuracy: 0.97029\n",
      "[Epoch: 4] Test Loss: 0.09665 Test Accuracy: 0.96975\n"
     ]
    },
    {
     "name": "stderr",
     "output_type": "stream",
     "text": [
      "100%|████████████████████████████████████████████████████████████████████████████████| 468/468 [00:24<00:00, 19.28it/s]\n",
      "100%|██████████████████████████████████████████████████████████████████████████████████| 78/78 [00:01<00:00, 39.66it/s]\n",
      "  0%|▎                                                                                 | 2/468 [00:00<00:25, 18.57it/s]"
     ]
    },
    {
     "name": "stdout",
     "output_type": "stream",
     "text": [
      "[Epoch: 5] Train Loss: 0.07794 Train Accuracy: 0.97554\n",
      "[Epoch: 5] Test Loss: 0.08673 Test Accuracy: 0.97276\n"
     ]
    },
    {
     "name": "stderr",
     "output_type": "stream",
     "text": [
      "100%|████████████████████████████████████████████████████████████████████████████████| 468/468 [00:24<00:00, 19.29it/s]\n",
      "100%|██████████████████████████████████████████████████████████████████████████████████| 78/78 [00:02<00:00, 37.00it/s]\n",
      "  0%|▎                                                                                 | 2/468 [00:00<00:26, 17.75it/s]"
     ]
    },
    {
     "name": "stdout",
     "output_type": "stream",
     "text": [
      "[Epoch: 6] Train Loss: 0.06543 Train Accuracy: 0.98003\n",
      "[Epoch: 6] Test Loss: 0.07632 Test Accuracy: 0.97626\n"
     ]
    },
    {
     "name": "stderr",
     "output_type": "stream",
     "text": [
      "100%|████████████████████████████████████████████████████████████████████████████████| 468/468 [00:26<00:00, 17.81it/s]\n",
      "100%|██████████████████████████████████████████████████████████████████████████████████| 78/78 [00:01<00:00, 39.12it/s]\n",
      "  0%|▎                                                                                 | 2/468 [00:00<00:24, 18.92it/s]"
     ]
    },
    {
     "name": "stdout",
     "output_type": "stream",
     "text": [
      "[Epoch: 7] Train Loss: 0.05413 Train Accuracy: 0.98306\n",
      "[Epoch: 7] Test Loss: 0.08359 Test Accuracy: 0.97406\n"
     ]
    },
    {
     "name": "stderr",
     "output_type": "stream",
     "text": [
      "100%|████████████████████████████████████████████████████████████████████████████████| 468/468 [00:25<00:00, 18.33it/s]\n",
      "100%|██████████████████████████████████████████████████████████████████████████████████| 78/78 [00:01<00:00, 41.78it/s]\n",
      "  0%|▎                                                                                 | 2/468 [00:00<00:23, 19.86it/s]"
     ]
    },
    {
     "name": "stdout",
     "output_type": "stream",
     "text": [
      "[Epoch: 8] Train Loss: 0.04757 Train Accuracy: 0.98499\n",
      "[Epoch: 8] Test Loss: 0.06698 Test Accuracy: 0.97987\n"
     ]
    },
    {
     "name": "stderr",
     "output_type": "stream",
     "text": [
      "100%|████████████████████████████████████████████████████████████████████████████████| 468/468 [00:24<00:00, 18.83it/s]\n",
      "100%|██████████████████████████████████████████████████████████████████████████████████| 78/78 [00:02<00:00, 38.13it/s]\n",
      "  0%|▎                                                                                 | 2/468 [00:00<00:24, 19.10it/s]"
     ]
    },
    {
     "name": "stdout",
     "output_type": "stream",
     "text": [
      "[Epoch: 9] Train Loss: 0.04062 Train Accuracy: 0.98726\n",
      "[Epoch: 9] Test Loss: 0.06779 Test Accuracy: 0.98007\n"
     ]
    },
    {
     "name": "stderr",
     "output_type": "stream",
     "text": [
      "100%|████████████████████████████████████████████████████████████████████████████████| 468/468 [00:24<00:00, 19.11it/s]\n",
      "100%|██████████████████████████████████████████████████████████████████████████████████| 78/78 [00:01<00:00, 39.96it/s]"
     ]
    },
    {
     "name": "stdout",
     "output_type": "stream",
     "text": [
      "[Epoch: 10] Train Loss: 0.03458 Train Accuracy: 0.98877\n",
      "[Epoch: 10] Test Loss: 0.06254 Test Accuracy: 0.98087\n"
     ]
    },
    {
     "name": "stderr",
     "output_type": "stream",
     "text": [
      "\n"
     ]
    }
   ],
   "source": [
    "# train and evaluate\n",
    "for epoch in range(NUM_EPOCHS):\n",
    "    train_loss = 0\n",
    "    train_acc = 0\n",
    "    for images, labels in tqdm(train_loader):\n",
    "        # TODO:forward + backward + optimize\n",
    "        #images = Variable(images)          #包装tensor用于自动求梯度\n",
    "        #labels = Variable(labels)\n",
    "        optimizer.zero_grad()       #优化器梯度归零\n",
    "        out = model(images)           #正向传播\n",
    "        lossvalue = criterion(out,labels)        #求损失值\n",
    "        optimizer.zero_grad()       #优化器梯度归零\n",
    "        lossvalue.backward()    #反向转播，刷新梯度值\n",
    "        optimizer.step()        #优化器运行一步，注意optimizer搜集的是model的参数\n",
    "\n",
    "        #计算损失\n",
    "        train_loss += float(lossvalue)      \n",
    "      #计算精确度\n",
    "        _,pred = out.max(1)\n",
    "        num_correct = (pred == labels).sum()\n",
    "        acc = int(num_correct) / images.shape[0]\n",
    "        train_acc += acc\n",
    "        #train_acc += (torch.max(out, 1)[1].view(labels.size()).data == labels.data).sum()\n",
    "        \n",
    "              \n",
    "        \n",
    "    # evaluate\n",
    "    # TODO:calculate the accuracy using traning and testing dataset\n",
    "    eval_loss = 0\n",
    "    eval_acc = 0\n",
    "    model.eval() #模型转化为评估模式\n",
    "    for images,labels in tqdm(test_loader):\n",
    "        images = images.view(-1,784)\n",
    "        #images = Variable(images)\n",
    "        #label = Variable(label)\n",
    "        testout = model(images)\n",
    "        testloss = criterion(testout,labels)\n",
    "        eval_loss += float(testloss)\n",
    " \n",
    "        _,pred = testout.max(1)\n",
    "        num_correct = (pred == labels).sum()\n",
    "        acc = int(num_correct) / images.shape[0]\n",
    "        eval_acc += acc\n",
    "        #train_acc += (torch.max(testout, 1)[1].view(labels0.size()).data == labels0.data).sum()\n",
    "        \n",
    "    train_loss=train_loss/len(train_loader)\n",
    "    train_acc=train_acc/len(train_loader)\n",
    "    eval_loss=eval_loss/len(test_loader)\n",
    "    eval_acc=eval_acc/len(test_loader)\n",
    "    print(\"[Epoch: %d] Train Loss: %5.5f Train Accuracy: %5.5f\" % (epoch+1, train_loss, train_acc))\n",
    "    print(\"[Epoch: %d] Test Loss: %5.5f Test Accuracy: %5.5f\" % (epoch+1, eval_loss, eval_acc))\n",
    "    "
   ]
  },
  {
   "cell_type": "code",
   "execution_count": 11,
   "metadata": {},
   "outputs": [
    {
     "name": "stdout",
     "output_type": "stream",
     "text": [
      "Training Accuracy: 98.88%\n",
      "Testing Accuracy: 98.09%\n"
     ]
    }
   ],
   "source": [
    "print('Training Accuracy: %.2f%%' % (train_acc*100))\n",
    "print('Testing Accuracy: %.2f%%' % (eval_acc*100))"
   ]
  },
  {
   "cell_type": "code",
   "execution_count": 3,
   "metadata": {},
   "outputs": [],
   "source": []
  },
  {
   "cell_type": "code",
   "execution_count": null,
   "metadata": {},
   "outputs": [],
   "source": []
  }
 ],
 "metadata": {
  "kernelspec": {
   "display_name": "Python 3",
   "language": "python",
   "name": "python3"
  },
  "language_info": {
   "codemirror_mode": {
    "name": "ipython",
    "version": 3
   },
   "file_extension": ".py",
   "mimetype": "text/x-python",
   "name": "python",
   "nbconvert_exporter": "python",
   "pygments_lexer": "ipython3",
   "version": "3.6.5"
  }
 },
 "nbformat": 4,
 "nbformat_minor": 2
}
